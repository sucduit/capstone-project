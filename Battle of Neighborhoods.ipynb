{
    "cells": [
        {
            "cell_type": "markdown",
            "metadata": {
                "collapsed": true
            },
            "source": "# Battle of Neighborhoods - week one a\n\nThe problem to be solved: \n\nAn investor want to pick up a location in New York to open a new restaurant. \n\nBackground introduction:\n\nNew York is one of the most diverse city in the US and there are lots of famous tourist attractions and world level financial and business centers. This well-developed city is also famous for its opportunities for the business starters. The large amount of consumers and good investment supporting environment attract lots of investors to start their new business here.\n\nOur client wants to open a new restaurant and pick a location to start the restaurant. As we all know a saying about restaurant business \u2013 \u201cit is all about location, location, and location\". The large population of the city provide a good source of the customers for restaurants. However, there are lots of challenges there too. If you walk around the city, you will find it is very easy to find a restaurant that can fit the need of different customers. This means that the market is very competitive. It is especially important to analyze the market carefully before making investment decision to gain some good understanding of the future business environment. \nSo, how should we proceed and decide the location?\n\nData: \n\nTo answer the question, the project use the data on New York City which include the detail of the city neighborhood boundary, restaurants and their ratings and tips. The other necessary data related to the restaurants can be obtained from Foursquare API utilized via Request library in Python. The collected data will be cleaned and processed to a data frame. Then the project will use the visualization method to assess the data and draw the necessary conclusions.\n\n\n\n"
        }
    ],
    "metadata": {
        "kernelspec": {
            "display_name": "Python 3.6",
            "language": "python",
            "name": "python3"
        },
        "language_info": {
            "codemirror_mode": {
                "name": "ipython",
                "version": 3
            },
            "file_extension": ".py",
            "mimetype": "text/x-python",
            "name": "python",
            "nbconvert_exporter": "python",
            "pygments_lexer": "ipython3",
            "version": "3.6.9"
        }
    },
    "nbformat": 4,
    "nbformat_minor": 1
}