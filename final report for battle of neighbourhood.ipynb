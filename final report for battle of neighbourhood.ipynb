{
    "cells": [
        {
            "cell_type": "markdown",
            "metadata": {
                "collapsed": true
            },
            "source": "#                      Final report for the battle of the neighbourhood "
        },
        {
            "cell_type": "markdown",
            "metadata": {},
            "source": "### Introduction "
        },
        {
            "cell_type": "markdown",
            "metadata": {},
            "source": "I am a data analyst. One of my client wants to invest a short-term rental apartment in Chicago. He wants me to do some research on the data of Chicago to help him make a decision of location of apartment.The following report is for my client to solve the problem:\" the locations in Chicago can be potential choices to invest his rental apartment."
        },
        {
            "cell_type": "markdown",
            "metadata": {},
            "source": "### Background of Chicago and restaurant investment"
        },
        {
            "cell_type": "markdown",
            "metadata": {},
            "source": "According to the description in Wikipedia, Chicago is the most populous city in Illinois and the third most populous city in the US. It Locates on the shores of Lake Michigan. It is the one of the important centers of economy, education as wel as culture. Every year there are nearly sixty million visitors come to this city.\n\nIts international airport ranks top six busiest airport according to the data release by ACI. The city has lots of unique landmarks including its museums, buildings designed by famous architectures as well as some world wide famous universities such as University of Chicago and Northwestern University. Beside these, the city is also a major world financial center. The city and surrounding area have third largest labor pool in the US. All of these make the city one of the best cities for investment. \n\nOur investment project is apartment for short term rentals. Large amount of the population and good enonomy are two important factors for the short-term rental investment. There are some other factors we need to consider. According to the prior studies, the factors that may affect the profit of a short term rental business also include marketing factors such as competition or the demand nearby, economic factors and the preference of the customers and so on. Short - term rental business has exploded during the past ten years. According to the statistics more then 7 million properties have been listed as short term rental properties. Moreover, instead of choosing to stay in hotel, people nowdays tend to perfer to choose short term rental properties. On average there are about 2 million people stay in short term properties every night. All of these indicate the good opportunities for the short - term rental business investment. According to the survey from Conde Nast, short term rental clients perfer to choose the properties that can make them feel like a \u201chome away from home.\u201d They also mentioned the followings as their major concerns when they choose the properties: first whether the property is close to urban centers or top hot venues; the privacy of the property; the safty of the environment. \n\n\nFrom the above bachground introduction, we already know Chicago has great economic environment and large amount of potential customers. However, we don't have any information about the safty of the environment and the location of the property that matches the major concerns of the clients.So in the following part of the report, I will introduce how I use the Chicago crime dataset and data from foursquare to analyze those issues. \n      "
        },
        {
            "cell_type": "markdown",
            "metadata": {},
            "source": "![Chicago](https://www.silversmithchicagohotel.com/resourcefiles/home-image-slider/the-silver-smith-hotel-chicago-home-3.jpg)"
        },
        {
            "cell_type": "markdown",
            "metadata": {},
            "source": "### Data Description"
        },
        {
            "cell_type": "markdown",
            "metadata": {},
            "source": "In order to do the analysis, I acquire the data from the following sources.\n\nThe FourSquare: \n\nI acquire the data from foursqaure about the Venues in Chicago the people would like to visit. The popular places provide good source of customers. \n\n\nThe Chicago Police Department:\n\nIn order to find out the safty of the investment environment, I acquired Crime data from the Chicago Police Department. I analyze the crime type and the location of the these crime. I also provide a hotmap for the client to have a general direct idea about where is the high crime rate neighbourhood and where is relative low.\n    \n"
        },
        {
            "cell_type": "markdown",
            "metadata": {},
            "source": "### Methodology and Results\n\nThe project starts from analyzing the crime data in Chicago obtained from Chicago police department. The explore gives a general idea of the crime information in Chicago. Relatively speaking, the peak of the crime in Chicago is around May to September and the day of the crime is all throught the week with slight higher amount during weekend.It is quite interesting that the peak hour of the crime happens around the lunch time until dinner time. The following figures give us some direct information about the distribution of the crime in Chicago.\n"
        },
        {
            "cell_type": "markdown",
            "metadata": {},
            "source": "\n![chicago crime|100x9100,20%](https://i.ibb.co/YRjSDgG/chicago.jpg)"
        },
        {
            "cell_type": "markdown",
            "metadata": {},
            "source": "![chicago crime|100x9100,20%](https://i.ibb.co/BTrv9Xt/crime.jpg)"
        },
        {
            "cell_type": "markdown",
            "metadata": {},
            "source": "![chicago crime](https://i.ibb.co/L9hmsk5/crimehour.jpg)"
        },
        {
            "cell_type": "markdown",
            "metadata": {},
            "source": "According to the analysis, the most top three frequent crimes in Chicago are THEFT, BATTERY and CRIMINAL DAMAGE. The following figure shows the top three crimes in Chicago."
        },
        {
            "cell_type": "markdown",
            "metadata": {},
            "source": "![chicago crime](https://i.ibb.co/YPcJHf2/top-crime.jpg)"
        },
        {
            "cell_type": "markdown",
            "metadata": {},
            "source": "![Chicago crime - top three](https://i.ibb.co/kX4y7Yf/top-crime-fig.jpg)"
        },
        {
            "cell_type": "markdown",
            "metadata": {},
            "source": "After exploring the basic chicago crime data information, I create the following hotmap:"
        },
        {
            "cell_type": "markdown",
            "metadata": {},
            "source": "![Chicago hot map](https://i.ibb.co/DM9m0fp/chicago-crime-hot-map.jpg)"
        },
        {
            "cell_type": "markdown",
            "metadata": {},
            "source": "The above hotmap gives the client a very direct idea the areas that can be potential good location of the investment. Since the safty of the environment is essential for the business, the client can choose to invest in the areas that belong to low heat area which indicate low crime rate."
        },
        {
            "cell_type": "markdown",
            "metadata": {},
            "source": "After I analyize the crime data of the Chicago, I acquired data from four square to see the top venues the visitors want to go. Since beside the safty of the environment, the convinience is another major concern of the potential clients. "
        },
        {
            "cell_type": "markdown",
            "metadata": {},
            "source": "![top venues](https://i.ibb.co/SJS8tKg/top-venues.jpg)"
        },
        {
            "cell_type": "markdown",
            "metadata": {},
            "source": "![venues](https://www.broadwayinchicago.com/wp-content/plugins/doptg/uploads/k62wOrZweAaW1zpryWaqT1cmewZCBOyNLcAzwmWxhSe142NnAfafjtxnQxNpDCTDH.jpg)"
        },
        {
            "cell_type": "markdown",
            "metadata": {},
            "source": "The above figures shows the top venues the peolpe like to visit in Chicago. If our clients can find some apartments that are close to those venues will increase the possibility that the visitors will choose to live. \n"
        },
        {
            "cell_type": "markdown",
            "metadata": {},
            "source": "### Discussion and Conclusion"
        },
        {
            "cell_type": "markdown",
            "metadata": {},
            "source": "The above provides the information about the general possible choices for the location the client can consider to invest. However, for short - term rental investments, it is also important to consider investment budget, the potential investment return, and the price of the houses, etc. "
        },
        {
            "cell_type": "code",
            "execution_count": null,
            "metadata": {},
            "outputs": [],
            "source": ""
        }
    ],
    "metadata": {
        "kernelspec": {
            "display_name": "Python 3.6",
            "language": "python",
            "name": "python3"
        },
        "language_info": {
            "codemirror_mode": {
                "name": "ipython",
                "version": 3
            },
            "file_extension": ".py",
            "mimetype": "text/x-python",
            "name": "python",
            "nbconvert_exporter": "python",
            "pygments_lexer": "ipython3",
            "version": "3.6.9"
        }
    },
    "nbformat": 4,
    "nbformat_minor": 1
}