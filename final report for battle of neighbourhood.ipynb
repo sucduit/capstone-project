{
    "cells": [
        {
            "cell_type": "markdown",
            "metadata": {
                "collapsed": true
            },
            "source": "#                      Final report for the battle of the neighbourhood "
        },
        {
            "cell_type": "markdown",
            "metadata": {},
            "source": "### Introduction "
        },
        {
            "cell_type": "markdown",
            "metadata": {},
            "source": "I am a data analyst. One of my client wants to invest a restaurant in Chicago. He wants me to do some research on the data of Chicago to help him make a decision of location of the restaurant.The following report is for my client to solve the problem:\" the locations in Chicago can be potential choices to invest his retaurant."
        },
        {
            "cell_type": "markdown",
            "metadata": {},
            "source": "### Background of Chicago and restaurant investment"
        },
        {
            "cell_type": "markdown",
            "metadata": {},
            "source": "According to the description in Wikipedia, Chicago is the most populous city in Illinois and the third most populous city in the US. It Locates on the shores of Lake Michigan. It is the one of the important centers of economy, education as wel as culture. Every year there are nearly sixty million visitors come to this city.\n\nIts international airport ranks top six busiest airport according to the data release by ACI. The city has lots of unique landmarks including its museums, buildings designed by famous architectures as well as some world wide famous universities such as University of Chicago and Northwestern University. Beside these, the city is also a major world financial center. The city and surrounding area have third largest labor pool in the US. All of these make the city one of the best cities for investment. \n\nOur investment project is restaurant. Large amount of the population and good enonomy are two important factors for the restaurant investment. However, for the restaurant business there are still some other factors we need to consider. According to the prior studies, the factors that may affect the profit of a restaurant also include marketing factors such as similar restaurant competition or the demand of the cuision offered nearby, economic factors such as minimum wage and the preference of the customers and of course the quality of the restaurant itself.\n\n\nFrom the above bachground introduction, we already know Chicago has great economic environment and large amount of potential customers. However, we don't have any information about the safty of the environment and the competition situation. So in the following part of the report, I will introduce how I use the Chicago crime dataset and data from foursquare to analyze those issues. \n      "
        },
        {
            "cell_type": "markdown",
            "metadata": {},
            "source": "### Data Description"
        },
        {
            "cell_type": "markdown",
            "metadata": {},
            "source": "In order to do the analysis, I acquire the data from the following sources.\n\nThe FourSquare: \n\nI acquire the data from foursqaure about the Venues in Chicago the people would like to visit. The popular places provide good source of customers. \n\nI also acquire the data from foursquare about the information of the current restaurants. Those information include the type of the resaurants and the rating of the resaurants.\n\nThe Chicago Police Department:\n\nIn order to find out the safty of the investment environment, I acquired Crime data from the Chicago Police Department. I analyze the crime type and the location of the these crime. I also provide a hotmap for the client to have a general direct idea about where is the high crime rate neighbourhood and where is relative low.\n    \n"
        }
    ],
    "metadata": {
        "kernelspec": {
            "display_name": "Python 3.6",
            "language": "python",
            "name": "python3"
        },
        "language_info": {
            "codemirror_mode": {
                "name": "ipython",
                "version": 3
            },
            "file_extension": ".py",
            "mimetype": "text/x-python",
            "name": "python",
            "nbconvert_exporter": "python",
            "pygments_lexer": "ipython3",
            "version": "3.6.9"
        }
    },
    "nbformat": 4,
    "nbformat_minor": 1
}