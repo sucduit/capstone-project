{
    "cells": [
        {
            "cell_type": "markdown",
            "metadata": {},
            "source": "### Battle of the neighbourhood\n\nThe Problem to be sovled:\n\nAn investor want to pick up a location in Chicagp to open a new restaurant.\n\nBackground introduction:\n\nChicago is one of the most diverse city in the US and there are lots of famous tourist attractions and world level financial and business centers. This well - developed city is also famous for its opportunities for the business starters. The client wants to pick a locaction to start a new restaurant. As we all know there is a saying about restaurant business \" it is all about location, location and location\". The large population of the city provide a good source of the customers for restaurants. However, there are lots of challenges out there too. If you walk around the city, you will find it is very easy to find a restaurant that can fit the need of different customers. This means that the market is very competitive. Beside the competition, the investor wants to consider the safty of the environment. Low crime rate is especially important for our investor too.\n\nAs a data scienctist, in order to help the investor, I analyze the Chicago restaurants and the crime data so that the investor can use them to analyze the market before making investment decision.\n\n\nData source:\n\nThe data that is needed for the project includes the followings:\n\nTop 30 venues to visit in chicago from foursquare. The list of the restaurants in the surrounding area from foursquare. the crime data from the chicago police department.\n\n\n"
        }
    ],
    "metadata": {
        "kernelspec": {
            "display_name": "Python 3.6",
            "language": "python",
            "name": "python3"
        },
        "language_info": {
            "codemirror_mode": {
                "name": "ipython",
                "version": 3
            },
            "file_extension": ".py",
            "mimetype": "text/x-python",
            "name": "python",
            "nbconvert_exporter": "python",
            "pygments_lexer": "ipython3",
            "version": "3.6.9"
        }
    },
    "nbformat": 4,
    "nbformat_minor": 1
}