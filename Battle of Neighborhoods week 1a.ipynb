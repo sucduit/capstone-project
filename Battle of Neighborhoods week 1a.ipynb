{
    "cells": [
        {
            "cell_type": "code",
            "execution_count": null,
            "metadata": {
                "collapsed": true
            },
            "outputs": [],
            "source": "The problem to be solved: "
        },
        {
            "cell_type": "code",
            "execution_count": null,
            "metadata": {},
            "outputs": [],
            "source": "An investor want to pick up a location in New York to open a new restaurant. "
        },
        {
            "cell_type": "code",
            "execution_count": null,
            "metadata": {},
            "outputs": [],
            "source": "Background introduction:"
        },
        {
            "cell_type": "code",
            "execution_count": null,
            "metadata": {},
            "outputs": [],
            "source": "New York is one of the most diverse city in the US and there are lots of famous tourist attractions and world level\nfinancial and business centers. This well - developed city is also famous for its opportunities for the business\nstarters. The client wants to pick a locaction to start a new restaurant. As we all know there is a saying about \nrestaurant business \" it is all about location, location and location\". The large population of the city provide\na good source of the customers for restaurants. However, there are lots of challenges out there too. If you wlak \naround the city, you will find it is very easy to find a restaurant that can fit the need of different customers. \nThis means that the market is very competitive. It is especially important to analyze the market carefully before\nmsking investment decision to gain some good understanding of the future business environment. So how should we \nprocedd and decide the location? "
        },
        {
            "cell_type": "code",
            "execution_count": null,
            "metadata": {},
            "outputs": [],
            "source": "Data:"
        },
        {
            "cell_type": "code",
            "execution_count": null,
            "metadata": {},
            "outputs": [],
            "source": "To answer the question, the project use the data on New York City which include the detail of the city \nneighborhood boundary, restaurants and their ratings and tips. The other necessary data related to the restaurants\ncan be obtained from Foursquare API utilized via Request library in Python. The collected data will be cleaned and \nprocessed to a data frame. Then the project will use the visualization method to assess the data and draw the \nnecessary conclusions."
        }
    ],
    "metadata": {
        "kernelspec": {
            "display_name": "Python 3.6",
            "language": "python",
            "name": "python3"
        },
        "language_info": {
            "codemirror_mode": {
                "name": "ipython",
                "version": 3
            },
            "file_extension": ".py",
            "mimetype": "text/x-python",
            "name": "python",
            "nbconvert_exporter": "python",
            "pygments_lexer": "ipython3",
            "version": "3.6.9"
        }
    },
    "nbformat": 4,
    "nbformat_minor": 1
}