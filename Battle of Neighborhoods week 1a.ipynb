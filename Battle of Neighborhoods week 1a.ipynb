{
    "cells": [
        {
            "cell_type": "code",
            "execution_count": null,
            "metadata": {
                "collapsed": true
            },
            "outputs": [],
            "source": "The problem to be solved: "
        },
        {
            "cell_type": "code",
            "execution_count": null,
            "metadata": {},
            "outputs": [],
            "source": "An investor want to pick up a location in New York to open a new restaurant. "
        },
        {
            "cell_type": "code",
            "execution_count": null,
            "metadata": {},
            "outputs": [],
            "source": "Background introduction:"
        },
        {
            "cell_type": "code",
            "execution_count": null,
            "metadata": {},
            "outputs": [],
            "source": "New York is one of the most diverse city in the US and there are lots of famous tourist attractions \nand world level financial and business centers. This well-developed city is also famous for its opportunities\nfor the business starters. The client wants to pick up a location to start a new restaurant. As we all know a \nsaying about restaurant business \u2013 \u201cit is all about location, location, and location. The large population of\nthe city provide a good source of the customers for restaurants. However, there are lots of challenges there too. \nIf you walk around the city, you will find it is very easy to find a restaurant that can fit the need of different\ncustomers. This means that the market is very competitive. It is especially important to analyze the market \ncarefully before making investment decision to gain some good understanding of the future business environment. So, how should we proceed and decide the location?"
        },
        {
            "cell_type": "code",
            "execution_count": null,
            "metadata": {},
            "outputs": [],
            "source": "Data:"
        },
        {
            "cell_type": "code",
            "execution_count": null,
            "metadata": {},
            "outputs": [],
            "source": "To answer the question, the project use the data on New York City which include the detail of the city \nneighborhood boundary, restaurants and their ratings and tips. The other necessary data related to the \nrestaurants can be obtained from Foursquare API utilized via Request library in Python. The collected data \nwill be cleaned and processed to a data frame. Then the project will use the visualization method to assess \nthe data and draw the necessary conclusions."
        }
    ],
    "metadata": {
        "kernelspec": {
            "display_name": "Python 3.6",
            "language": "python",
            "name": "python3"
        },
        "language_info": {
            "codemirror_mode": {
                "name": "ipython",
                "version": 3
            },
            "file_extension": ".py",
            "mimetype": "text/x-python",
            "name": "python",
            "nbconvert_exporter": "python",
            "pygments_lexer": "ipython3",
            "version": "3.6.9"
        }
    },
    "nbformat": 4,
    "nbformat_minor": 1
}